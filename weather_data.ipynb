{
 "cells": [
  {
   "cell_type": "markdown",
   "metadata": {},
   "source": [
    "# Weather Data Analysis for Major Asian Cities"
   ]
  },
  {
   "cell_type": "markdown",
   "metadata": {},
   "source": [
    "This notebook analyzes the current weather data for major cities in Asia. The data is fetched from the OpenWeatherMap API and includes temperature, humidity, and weather descriptions."
   ]
  },
  {
   "cell_type": "markdown",
   "metadata": {},
   "source": [
    "## 1. Fetching Weather Data"
   ]
  },
  {
   "cell_type": "code",
   "execution_count": null,
   "metadata": {},
   "outputs": [],
   "source": [
    "import os\n",
    "import requests\n",
    "import pandas as pd\n",
    "\n",
    "API_KEY = os.environ.get(\"OPENWEATHER_API_KEY\")\n",
    "BASE_URL = \"http://api.openweathermap.org/data/2.5/weather\"\n",
    "\n",
    "cities = [\"Tokyo\", \"Delhi\", \"Shanghai\", \"Mumbai\", \"Beijing\", \"Karachi\", \"Dhaka\", \"Seoul\", \"Jakarta\", \"Bangkok\"]\n",
    "\n",
    "weather_data = []\n",
    "if API_KEY:\n",
    "    for city in cities:\n",
    "        url = f\"{BASE_URL}?q={city}&appid={API_KEY}&units=metric\"\n",
    "        response = requests.get(url)\n",
    "        if response.status_code == 200:\n",
    "            data = response.json()\n",
    "            weather_data.append({\n",
    "                \"City\": city,\n",
    "                \"Temperature (C)\": data[\"main\"][\"temp\"],\n",
    "                \"Humidity (%)\": data[\"main\"][\"humidity\"],\n",
    "                \"Weather\": data[\"weather\"][0][\"description\"]\n",
    "            })\n",
    "\n",
    "    df = pd.DataFrame(weather_data)\n",
    "    df.to_csv(\"asia_weather_data_2025.csv\", index=False)\n",
    "    print(\"Weather data for Asian cities in 2025 has been downloaded and saved to asia_weather_data_2025.csv\")\n",
    "else:\n",
    "    print(\"API key not found. Please set the OPENWEATHER_API_KEY environment variable.\")"
   ]
  },
  {
   "cell_type": "markdown",
   "metadata": {},
   "source": [
    "## 2. Loading and Exploring the Data"
   ]
  },
  {
   "cell_type": "code",
   "execution_count": null,
   "metadata": {},
   "outputs": [],
   "source": [
    "import pandas as pd\n",
    "\n",
    "df = pd.read_csv(\"asia_weather_data_2025.csv\")\n",
    "df.head()"
   ]
  },
  {
   "cell_type": "markdown",
   "metadata": {},
   "source": [
    "## 3. Data Visualization"
   ]
  },
  {
   "cell_type": "markdown",
   "metadata": {},
   "source": [
    "### 3.1 Temperature Distribution"
   ]
  },
  {
   "cell_type": "code",
   "execution_count": null,
   "metadata": {},
   "outputs": [],
   "source": [
    "import matplotlib.pyplot as plt\n",
    "import seaborn as sns\n",
    "\n",
    "plt.figure(figsize=(12, 6))\n",
    "sns.barplot(x=\"City\", y=\"Temperature (C)\", data=df)\n",
    "plt.title(\"Temperature in Major Asian Cities\")\n",
    "plt.xlabel(\"City\")\n",
    "plt.ylabel(\"Temperature (C)\")\n",
    "plt.xticks(rotation=45)\n",
    "plt.show()"
   ]
  },
  {
   "cell_type": "markdown",
   "metadata": {},
   "source": [
    "### 3.2 Humidity Distribution"
   ]
  },
  {
   "cell_type": "code",
   "execution_count": null,
   "metadata": {},
   "outputs": [],
   "source": [
    "plt.figure(figsize=(12, 6))\n",
    "sns.barplot(x=\"City\", y=\"Humidity (%)\", data=df)\n",
    "plt.title(\"Humidity in Major Asian Cities\")\n",
    "plt.xlabel(\"City\")\n",
    "plt.ylabel(\"Humidity (%)\")\n",
    "plt.xticks(rotation=45)\n",
    "plt.show()"
   ]
  },
  {
   "cell_type": "markdown",
   "metadata": {},
   "source": [
    "### 3.3 Temperature vs. Humidity"
   ]
  },
  {
   "cell_type": "code",
   "execution_count": null,
   "metadata": {},
   "outputs": [],
   "source": [
    "plt.figure(figsize=(10, 6))\n",
    "sns.scatterplot(x=\"Temperature (C)\", y=\"Humidity (%)\", hue=\"City\", data=df, s=100)\n",
    "plt.title(\"Temperature vs. Humidity in Major Asian Cities\")\n",
    "plt.xlabel(\"Temperature (C)\")\n",
    "plt.ylabel(\"Humidity (%)\")\n",
    "plt.legend(bbox_to_anchor=(1.05, 1), loc='upper left')\n",
    "plt.show()"
   ]
  },
  {
   "cell_type": "markdown",
   "metadata": {},
   "source": [
    "## 4. Machine Learning: Clustering Cities by Weather"
   ]
  },
  {
   "cell_type": "markdown",
   "metadata": {},
   "source": [
    "We will use the K-Means clustering algorithm to group cities with similar weather conditions based on their temperature and humidity."
   ]
  },
  {
   "cell_type": "code",
   "execution_count": null,
   "metadata": {},
   "outputs": [],
   "source": [
    "from sklearn.cluster import KMeans\n",
    "\n",
    "X = df[[\"Temperature (C)\", \"Humidity (%)\"]]\n",
    "\n",
    "kmeans = KMeans(n_clusters=3, random_state=42, n_init=10)\n",
    "df[\"Cluster\"] = kmeans.fit_predict(X)\n",
    "\n",
    "df.head()"
   ]
  },
  {
   "cell_type": "markdown",
   "metadata": {},
   "source": [
    "### 4.1 Visualizing the Clusters"
   ]
  },
  {
   "cell_type": "code",
   "execution_count": null,
   "metadata": {},
   "outputs": [],
   "source": [
    "plt.figure(figsize=(10, 6))\n",
    "sns.scatterplot(x=\"Temperature (C)\", y=\"Humidity (%)\", hue=\"Cluster\", data=df, palette=\"viridis\", s=100)\n",
    "\n",
    "for i, city in enumerate(df[\"City\"]):\n",
    "    plt.text(df[\"Temperature (C)\"][i], df[\"Humidity (%)\"][i], city, fontsize=9)\n",
    "    \n",
    "plt.title(\"City Clusters Based on Weather Conditions\")\n",
    "plt.xlabel(\"Temperature (C)\")\n",
    "plt.ylabel(\"Humidity (%)\")\n",
    "plt.legend(title=\"Cluster\")\n",
    "plt.show()"
   ]
  }
 ],
 "metadata": {
  "kernelspec": {
   "display_name": "Python 3",
   "language": "python",
   "name": "python3"
  },
  "language_info": {
   "codemirror_mode": {
    "name": "ipython",
    "version": 3
   },
   "file_extension": ".py",
   "mimetype": "text/x-python",
   "name": "python",
   "nbconvert_exporter": "python",
   "pygments_lexer": "ipython3",
   "version": "3.10.9"
  }
 },
 "nbformat": 4,
 "nbformat_minor": 4
}